{
 "cells": [
  {
   "cell_type": "code",
   "execution_count": 1,
   "id": "c0133ed3",
   "metadata": {},
   "outputs": [],
   "source": [
    "import numpy as np\n",
    "import pandas as pd\n",
    "import matplotlib.pyplot as plt"
   ]
  },
  {
   "cell_type": "code",
   "execution_count": 106,
   "id": "576bc93f",
   "metadata": {},
   "outputs": [],
   "source": [
    "from sklearn.linear_model import LinearRegression\n",
    "from sklearn.model_selection import train_test_split\n",
    "from sklearn.model_selection import cross_val_score\n",
    "from sklearn.naive_bayes import GaussianNB\n",
    "from sklearn.model_selection import KFold\n",
    "from sklearn.model_selection import RepeatedKFold\n",
    "from sklearn.model_selection import cross_val_predict\n",
    "from sklearn.metrics import plot_confusion_matrix\n",
    "from sklearn.linear_model import LogisticRegression\n",
    "from sklearn import svm\n",
    "import statistics"
   ]
  },
  {
   "cell_type": "code",
   "execution_count": 225,
   "id": "92cca449",
   "metadata": {},
   "outputs": [],
   "source": [
    "from sklearn.metrics import confusion_matrix,ConfusionMatrixDisplay\n",
    "from sklearn.metrics import recall_score\n",
    "from sklearn.metrics import precision_score"
   ]
  },
  {
   "cell_type": "markdown",
   "id": "ddb67490",
   "metadata": {},
   "source": [
    "## Meteorological indexes:\n",
    "nao\n",
    "<br>\n",
    "ao\n",
    "<br>\n",
    "aao\n",
    "<br>\n",
    "pna\n",
    "<br>\n",
    "enso\n",
    "<br>\n",
    "qbo\n"
   ]
  },
  {
   "cell_type": "code",
   "execution_count": 330,
   "id": "500eb10f",
   "metadata": {},
   "outputs": [],
   "source": [
    "nao=pd.read_csv('file:///Users/davidelibera/Library/Mobile%20Documents/com~apple~TextEdit/Documents/nao%20index%20data.txt',header=None,names=['data'])\n",
    "enso=pd.read_csv('file:///Users/davidelibera/Library/Mobile%20Documents/com~apple~TextEdit/Documents/enso%20index%20data.txt',header=None,names=['data'])\n",
    "aao=pd.read_csv('file:///Users/davidelibera/Library/Mobile%20Documents/com~apple~TextEdit/Documents/aao%20index%20data.txt',header=None,names=['data'])\n",
    "ao=pd.read_csv('file:///Users/davidelibera/Library/Mobile%20Documents/com~apple~TextEdit/Documents/ao%20index%20data.txt',header=None,names=['data'])\n",
    "pna=pd.read_csv('file:///Users/davidelibera/Library/Mobile%20Documents/com~apple~TextEdit/Documents/pna%20index%20data.txt',header=None,names=['data'])\n",
    "qbo=pd.read_csv('file:///Users/davidelibera/Library/Mobile%20Documents/com~apple~TextEdit/Documents/qbo%20index%20data.txt',header=None,names=['data'])"
   ]
  },
  {
   "cell_type": "code",
   "execution_count": 331,
   "id": "d71f3cac",
   "metadata": {},
   "outputs": [],
   "source": [
    "nao1=nao.data.str.split(expand=True,).set_index(0).iloc[29:72]\n",
    "enso1=enso.data.str.split(expand=True,).set_index(0).iloc[29:72]\n",
    "aao1=aao.data.str.split(expand=True,).set_index(0).iloc[1:44]\n",
    "ao1=ao.data.str.split(expand=True,).set_index(0).iloc[29:72]\n",
    "pna1=pna.data.str.split(expand=True,).set_index(0).iloc[29:72]\n",
    "qbo1=qbo.data.str.split(expand=True,).set_index(0)\n"
   ]
  },
  {
   "cell_type": "markdown",
   "id": "4d884fc3",
   "metadata": {},
   "source": [
    "### Temperatures data at Milano Malpensa 1965-2021\n"
   ]
  },
  {
   "cell_type": "code",
   "execution_count": 332,
   "id": "2266b71c",
   "metadata": {},
   "outputs": [],
   "source": [
    "t1=pd.read_csv('file:///Users/davidelibera/Library/Mobile%20Documents/com~apple~TextEdit/Documents/temperatures%20malpensa%201965-2021.txt',header=None,names=['data'])"
   ]
  },
  {
   "cell_type": "code",
   "execution_count": 333,
   "id": "4c5db777",
   "metadata": {},
   "outputs": [],
   "source": [
    "temperatures =t1.data.str.split(expand=True,).set_index(0).iloc[14:58]\n",
    "temperatures.columns=['data']"
   ]
  },
  {
   "cell_type": "code",
   "execution_count": 334,
   "id": "a1433db3",
   "metadata": {},
   "outputs": [],
   "source": [
    "list_t=temperatures['data'].tolist()\n"
   ]
  },
  {
   "cell_type": "code",
   "execution_count": 335,
   "id": "1a2f2a8c",
   "metadata": {},
   "outputs": [],
   "source": [
    "list_t=list(map(float, list_t)) "
   ]
  },
  {
   "cell_type": "code",
   "execution_count": 336,
   "id": "0c6dbebe",
   "metadata": {},
   "outputs": [
    {
     "data": {
      "text/plain": [
       "12.28139534883721"
      ]
     },
     "execution_count": 336,
     "metadata": {},
     "output_type": "execute_result"
    }
   ],
   "source": [
    "mean=statistics.mean(np.array(list_t))\n",
    "mean"
   ]
  },
  {
   "cell_type": "code",
   "execution_count": 337,
   "id": "7d468774",
   "metadata": {},
   "outputs": [],
   "source": [
    "list_t_copy=list_t.copy()"
   ]
  },
  {
   "cell_type": "code",
   "execution_count": 338,
   "id": "665e0659",
   "metadata": {},
   "outputs": [],
   "source": [
    "#assigning -1 if below avg and 1 if above avg\n",
    "for i in range(0,len(list_t_copy)):\n",
    "    if list_t_copy[i] < mean:\n",
    "        list_t_copy[i] = -1\n",
    "    elif list_t_copy[i]== mean:\n",
    "        list_t_copy[i] = 0\n",
    "    elif list_t_copy[i] > mean:\n",
    "        list_t_copy[i] = 1"
   ]
  },
  {
   "cell_type": "markdown",
   "id": "aedeada5",
   "metadata": {},
   "source": [
    "Computing the annual mean for each index"
   ]
  },
  {
   "cell_type": "code",
   "execution_count": 339,
   "id": "f0ac0a48",
   "metadata": {},
   "outputs": [],
   "source": [
    "nao1['mean'] = nao1.astype(float).mean(axis=1)\n",
    "enso1['mean'] = enso1.astype(float).mean(axis=1)\n",
    "aao1['mean'] = aao1.astype(float).mean(axis=1)\n",
    "ao1['mean'] = ao1.astype(float).mean(axis=1)\n",
    "pna1['mean'] = pna1.astype(float).mean(axis=1)\n",
    "\n"
   ]
  },
  {
   "cell_type": "code",
   "execution_count": 340,
   "id": "caf3b7b1",
   "metadata": {},
   "outputs": [],
   "source": [
    "indexes=[nao1['mean'].tolist(),enso1['mean'].tolist(),aao1['mean'].tolist(),ao1['mean'].tolist(),\\\n",
    "         pna1['mean'].tolist()]"
   ]
  },
  {
   "cell_type": "code",
   "execution_count": 341,
   "id": "eeffa4fb",
   "metadata": {},
   "outputs": [],
   "source": [
    "df=pd.DataFrame(indexes)\n",
    "df1=df.transpose()"
   ]
  },
  {
   "cell_type": "code",
   "execution_count": 342,
   "id": "c799cb25",
   "metadata": {},
   "outputs": [],
   "source": [
    "df1['average temperatures']=list_t"
   ]
  },
  {
   "cell_type": "code",
   "execution_count": 343,
   "id": "2093a689",
   "metadata": {},
   "outputs": [],
   "source": [
    "df1['temperature vs average'] = list_t_copy"
   ]
  },
  {
   "cell_type": "code",
   "execution_count": 344,
   "id": "fa085e99",
   "metadata": {},
   "outputs": [],
   "source": [
    "df1.columns=['nao','enso','aao','ao','pna','average temperatures','temperature vs average']"
   ]
  },
  {
   "cell_type": "code",
   "execution_count": 345,
   "id": "a2c769c5",
   "metadata": {},
   "outputs": [],
   "source": [
    "X=np.array(indexes).T\n",
    "y=list_t\n"
   ]
  },
  {
   "cell_type": "markdown",
   "id": "f5f437c9",
   "metadata": {},
   "source": [
    "## Precipitations"
   ]
  },
  {
   "cell_type": "code",
   "execution_count": 350,
   "id": "ef6ed789",
   "metadata": {},
   "outputs": [],
   "source": [
    "prp1=pd.read_csv('file:///Users/davidelibera/Library/Mobile%20Documents/com~apple~TextEdit/Documents/average%20prp.txt',header=None,names=['data'])"
   ]
  },
  {
   "cell_type": "code",
   "execution_count": 351,
   "id": "5c0fef02",
   "metadata": {},
   "outputs": [],
   "source": [
    "prp=prp1.iloc[14:57]\n",
    "list_prp=prp['data'].tolist()\n",
    "\n"
   ]
  },
  {
   "cell_type": "code",
   "execution_count": 352,
   "id": "f42c7672",
   "metadata": {},
   "outputs": [],
   "source": [
    "df1['average annual precipitations'] = list_prp"
   ]
  },
  {
   "cell_type": "code",
   "execution_count": 353,
   "id": "a0736300",
   "metadata": {},
   "outputs": [],
   "source": [
    "list_prp_copy=list_prp.copy()\n"
   ]
  },
  {
   "cell_type": "code",
   "execution_count": 354,
   "id": "3fa54a89",
   "metadata": {},
   "outputs": [
    {
     "data": {
      "text/plain": [
       "1154.6593023255814"
      ]
     },
     "execution_count": 354,
     "metadata": {},
     "output_type": "execute_result"
    }
   ],
   "source": [
    "list_prp_copy=list(map(float, list_prp_copy)) \n",
    "mean=statistics.mean(np.array(list_prp_copy))\n",
    "mean"
   ]
  },
  {
   "cell_type": "markdown",
   "id": "83e72e2b",
   "metadata": {},
   "source": [
    "### For precipitations:\n",
    "<br>\n",
    "if highly above avg: 2\n",
    "<br>\n",
    "if above avg: 1\n",
    "<br>\n",
    "if near avg: 0\n",
    "<br>\n",
    "if below avg: -1\n",
    "<br>\n",
    "if highly below avg -2"
   ]
  },
  {
   "cell_type": "code",
   "execution_count": 355,
   "id": "2f7fc17d",
   "metadata": {},
   "outputs": [],
   "source": [
    "for i in range(0,len(list_prp_copy)):\n",
    "    if list_prp_copy[i]-mean>300:\n",
    "        list_prp_copy[i]=+2\n",
    "    elif list_prp_copy[i]-mean>100:\n",
    "        list_prp_copy[i]=+1\n",
    "    elif list_prp_copy[i]-mean > -100 and list_prp_copy[i]-mean < 100:\n",
    "        list_prp_copy[i]=0\n",
    "    elif list_prp_copy[i]-mean< -300:\n",
    "        list_prp_copy[i]= -2\n",
    "    elif list_prp_copy[i]-mean< -100:\n",
    "        list_prp_copy[i]=-1\n",
    "         \n",
    "    \n",
    "    "
   ]
  },
  {
   "cell_type": "code",
   "execution_count": 356,
   "id": "22c37c14",
   "metadata": {},
   "outputs": [],
   "source": [
    "df1['prp vs average'] = list_prp_copy\n"
   ]
  },
  {
   "cell_type": "code",
   "execution_count": 357,
   "id": "9f9069af",
   "metadata": {},
   "outputs": [],
   "source": [
    "df1['year'] = range(1979,2022,1)"
   ]
  },
  {
   "cell_type": "code",
   "execution_count": 358,
   "id": "e664a0d2",
   "metadata": {},
   "outputs": [],
   "source": [
    "df_final=df1.set_index('year')"
   ]
  },
  {
   "cell_type": "markdown",
   "id": "9853d00e",
   "metadata": {},
   "source": [
    "# Complete dataset"
   ]
  },
  {
   "cell_type": "code",
   "execution_count": 360,
   "id": "587e8add",
   "metadata": {},
   "outputs": [
    {
     "data": {
      "text/html": [
       "<div>\n",
       "<style scoped>\n",
       "    .dataframe tbody tr th:only-of-type {\n",
       "        vertical-align: middle;\n",
       "    }\n",
       "\n",
       "    .dataframe tbody tr th {\n",
       "        vertical-align: top;\n",
       "    }\n",
       "\n",
       "    .dataframe thead th {\n",
       "        text-align: right;\n",
       "    }\n",
       "</style>\n",
       "<table border=\"1\" class=\"dataframe\">\n",
       "  <thead>\n",
       "    <tr style=\"text-align: right;\">\n",
       "      <th></th>\n",
       "      <th>nao</th>\n",
       "      <th>enso</th>\n",
       "      <th>aao</th>\n",
       "      <th>ao</th>\n",
       "      <th>pna</th>\n",
       "      <th>average temperatures</th>\n",
       "      <th>temperature vs average</th>\n",
       "      <th>average annual precipitations</th>\n",
       "      <th>prp vs average</th>\n",
       "    </tr>\n",
       "    <tr>\n",
       "      <th>year</th>\n",
       "      <th></th>\n",
       "      <th></th>\n",
       "      <th></th>\n",
       "      <th></th>\n",
       "      <th></th>\n",
       "      <th></th>\n",
       "      <th></th>\n",
       "      <th></th>\n",
       "      <th></th>\n",
       "    </tr>\n",
       "  </thead>\n",
       "  <tbody>\n",
       "    <tr>\n",
       "      <th>1979</th>\n",
       "      <td>0.1350</td>\n",
       "      <td>0.250833</td>\n",
       "      <td>0.578250</td>\n",
       "      <td>-0.150333</td>\n",
       "      <td>0.194167</td>\n",
       "      <td>11.0</td>\n",
       "      <td>-1</td>\n",
       "      <td>1199.69</td>\n",
       "      <td>0</td>\n",
       "    </tr>\n",
       "    <tr>\n",
       "      <th>1980</th>\n",
       "      <td>-0.4125</td>\n",
       "      <td>0.253333</td>\n",
       "      <td>-0.962167</td>\n",
       "      <td>-0.365167</td>\n",
       "      <td>0.250000</td>\n",
       "      <td>10.6</td>\n",
       "      <td>-1</td>\n",
       "      <td>1268.45</td>\n",
       "      <td>1</td>\n",
       "    </tr>\n",
       "    <tr>\n",
       "      <th>1981</th>\n",
       "      <td>-0.2125</td>\n",
       "      <td>-0.268333</td>\n",
       "      <td>-0.440083</td>\n",
       "      <td>-0.643250</td>\n",
       "      <td>0.238333</td>\n",
       "      <td>11.1</td>\n",
       "      <td>-1</td>\n",
       "      <td>1206.54</td>\n",
       "      <td>0</td>\n",
       "    </tr>\n",
       "    <tr>\n",
       "      <th>1982</th>\n",
       "      <td>0.4300</td>\n",
       "      <td>0.990000</td>\n",
       "      <td>0.196167</td>\n",
       "      <td>-0.434583</td>\n",
       "      <td>-0.158333</td>\n",
       "      <td>12.1</td>\n",
       "      <td>-1</td>\n",
       "      <td>1031.72</td>\n",
       "      <td>-1</td>\n",
       "    </tr>\n",
       "    <tr>\n",
       "      <th>1983</th>\n",
       "      <td>0.3100</td>\n",
       "      <td>0.480000</td>\n",
       "      <td>0.066583</td>\n",
       "      <td>0.297667</td>\n",
       "      <td>0.807500</td>\n",
       "      <td>11.5</td>\n",
       "      <td>-1</td>\n",
       "      <td>842.03</td>\n",
       "      <td>-2</td>\n",
       "    </tr>\n",
       "  </tbody>\n",
       "</table>\n",
       "</div>"
      ],
      "text/plain": [
       "         nao      enso       aao        ao       pna  average temperatures  \\\n",
       "year                                                                         \n",
       "1979  0.1350  0.250833  0.578250 -0.150333  0.194167                  11.0   \n",
       "1980 -0.4125  0.253333 -0.962167 -0.365167  0.250000                  10.6   \n",
       "1981 -0.2125 -0.268333 -0.440083 -0.643250  0.238333                  11.1   \n",
       "1982  0.4300  0.990000  0.196167 -0.434583 -0.158333                  12.1   \n",
       "1983  0.3100  0.480000  0.066583  0.297667  0.807500                  11.5   \n",
       "\n",
       "      temperature vs average average annual precipitations  prp vs average  \n",
       "year                                                                        \n",
       "1979                      -1                       1199.69               0  \n",
       "1980                      -1                       1268.45               1  \n",
       "1981                      -1                       1206.54               0  \n",
       "1982                      -1                       1031.72              -1  \n",
       "1983                      -1                        842.03              -2  "
      ]
     },
     "execution_count": 360,
     "metadata": {},
     "output_type": "execute_result"
    }
   ],
   "source": [
    "df_final.head()"
   ]
  },
  {
   "cell_type": "code",
   "execution_count": 194,
   "id": "8a6852fd",
   "metadata": {},
   "outputs": [],
   "source": [
    "y=df_final['prp vs average'].values.tolist()"
   ]
  },
  {
   "cell_type": "code",
   "execution_count": 223,
   "id": "4a06c6b4",
   "metadata": {},
   "outputs": [],
   "source": [
    "classifier_svm=svm.SVC(kernel='linear')\n",
    "lr = LogisticRegression()\n",
    "nbc=GaussianNB()\n",
    "model=[lr,classifier_svm,nbc]"
   ]
  },
  {
   "cell_type": "code",
   "execution_count": 224,
   "id": "d3da0bde",
   "metadata": {},
   "outputs": [
    {
     "name": "stdout",
     "output_type": "stream",
     "text": [
      "0.1725 LogisticRegression()\n"
     ]
    },
    {
     "data": {
      "image/png": "[encoded data removed]",
      "text/plain": [
       "<Figure size 432x288 with 2 Axes>"
      ]
     },
     "metadata": {
      "needs_background": "light"
     },
     "output_type": "display_data"
    },
    {
     "name": "stdout",
     "output_type": "stream",
     "text": [
      "0.18222222222222223 0.16785714285714284\n",
      "0.215 SVC(kernel='linear')\n"
     ]
    },
    {
     "data": {
      "image/png": "[encoded data removed]",
      "text/plain": [
       "<Figure size 432x288 with 2 Axes>"
      ]
     },
     "metadata": {
      "needs_background": "light"
     },
     "output_type": "display_data"
    },
    {
     "name": "stdout",
     "output_type": "stream",
     "text": [
      "0.22666666666666668 0.2109090909090909\n",
      "0.2245 GaussianNB()\n"
     ]
    },
    {
     "data": {
      "image/png": "[encoded data removed]",
      "text/plain": [
       "<Figure size 432x288 with 2 Axes>"
      ]
     },
     "metadata": {
      "needs_background": "light"
     },
     "output_type": "display_data"
    },
    {
     "name": "stdout",
     "output_type": "stream",
     "text": [
      "0.18222222222222223 0.17888888888888888\n"
     ]
    }
   ],
   "source": [
    "precision=[]\n",
    "recall=[]\n",
    "for model in model:\n",
    "    y_pred=cross_val_predict(model,X, y, cv=4)\n",
    "    scores=cross_val_score(model, X, y, scoring='accuracy', cv=cv, n_jobs=-1)\n",
    "    print(scores.astype(float).mean(),model)\n",
    "    #print(y_pred,model)\n",
    "    labels=[-2,-1,0,1,2]\n",
    "    y_true=y\n",
    "    y_pred=y_pred\n",
    "    cm=confusion_matrix(y_true, y_pred,labels=labels)\n",
    "    disp=ConfusionMatrixDisplay(cm,display_labels=labels)\n",
    "    disp.plot(cmap=plt.cm.Reds)\n",
    "    plt.show()\n",
    "    recall.append(recall_score(y_true, y_pred, average=None))\n",
    "    precision.append(precision_score(y_true, y_pred, average=None))\n",
    "    print(statistics.mean(recall_score(y_true, y_pred, average=None)),\\\n",
    "      (statistics.mean(precision_score(y_true, y_pred, average=None))))\n",
    "\n",
    "    "
   ]
  },
  {
   "cell_type": "code",
   "execution_count": 177,
   "id": "86bbae97",
   "metadata": {},
   "outputs": [
    {
     "data": {
      "text/plain": [
       "[array([0.3       , 0.3       , 0.2       , 0.        , 0.11111111]),\n",
       " array([0.4       , 0.2       , 0.2       , 0.        , 0.33333333]),\n",
       " array([0.2       , 0.3       , 0.3       , 0.        , 0.11111111])]"
      ]
     },
     "execution_count": 177,
     "metadata": {},
     "output_type": "execute_result"
    }
   ],
   "source": [
    "recall"
   ]
  },
  {
   "cell_type": "code",
   "execution_count": 138,
   "id": "5aa942f8",
   "metadata": {},
   "outputs": [
    {
     "data": {
      "text/plain": [
       "array([ 0,  2,  2, -1,  0, -1, -1, -1, -1,  2, -2, -1,  0,  0, -2, -1,  2,\n",
       "       -1,  0,  2, -2, -1,  0,  0,  1, -1, -1, -1,  2,  0,  0, -2, -1,  2,\n",
       "       -1,  0, -2,  2, -1, -2,  2,  0,  0])"
      ]
     },
     "execution_count": 138,
     "metadata": {},
     "output_type": "execute_result"
    }
   ],
   "source": [
    "y_pred"
   ]
  },
  {
   "cell_type": "code",
   "execution_count": 261,
   "id": "3d95847f",
   "metadata": {},
   "outputs": [
    {
     "data": {
      "image/png": "[encoded data removed]",
      "text/plain": [
       "<Figure size 1008x432 with 1 Axes>"
      ]
     },
     "metadata": {
      "needs_background": "light"
     },
     "output_type": "display_data"
    }
   ],
   "source": [
    "fig,ax = plt.subplots(figsize=(14,6))\n",
    "ax.plot(df_final['nao'], marker='.', linestyle='-', linewidth = 0.4, label='Nao', color='red')\n",
    "ax.plot(df_final['ao'],marker='.', linestyle='-', linewidth = 0.4, label='Ao', color='blue')\n",
    "ax.plot(df_final['pna'],marker='.', linestyle='-', linewidth = 0.4, label='Pna', color='green')\n",
    "plt.xticks(ticks=range(1979,2022,2))\n",
    "plt.hlines(y=0, xmin=1979, xmax=2022,color='black',linewidth=1.2)\n",
    "plt.grid(alpha=0.5)\n",
    "plt.legend()\n",
    "ax.set_facecolor('#f4f1ee')\n",
    "plt.show()"
   ]
  },
  {
   "cell_type": "code",
   "execution_count": null,
   "id": "952faea6",
   "metadata": {},
   "outputs": [],
   "source": []
  }
 ],
 "metadata": {
  "kernelspec": {
   "display_name": "Python 3 (ipykernel)",
   "language": "python",
   "name": "python3"
  },
  "language_info": {
   "codemirror_mode": {
    "name": "ipython",
    "version": 3
   },
   "file_extension": ".py",
   "mimetype": "text/x-python",
   "name": "python",
   "nbconvert_exporter": "python",
   "pygments_lexer": "ipython3",
   "version": "3.9.7"
  }
 },
 "nbformat": 4,
 "nbformat_minor": 5
}
