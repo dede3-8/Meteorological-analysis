{
 "cells": [
  {
   "cell_type": "code",
   "execution_count": 283,
   "id": "c0133ed3",
   "metadata": {},
   "outputs": [],
   "source": [
    "import numpy as np\n",
    "import pandas as pd\n",
    "import matplotlib.pyplot as plt\n",
    "from tqdm.notebook import tqdm"
   ]
  },
  {
   "cell_type": "code",
   "execution_count": 327,
   "id": "576bc93f",
   "metadata": {},
   "outputs": [],
   "source": [
    "from sklearn.linear_model import LinearRegression\n",
    "from sklearn.model_selection import train_test_split\n",
    "from sklearn.model_selection import cross_val_score\n",
    "from sklearn.naive_bayes import GaussianNB\n",
    "from sklearn.model_selection import KFold\n",
    "from sklearn.model_selection import RepeatedKFold\n",
    "from sklearn.model_selection import StratifiedKFold\n",
    "from sklearn.model_selection import cross_val_predict\n",
    "from sklearn.metrics import plot_confusion_matrix\n",
    "from sklearn.linear_model import LogisticRegression\n",
    "from sklearn import svm\n",
    "from sklearn.neighbors import KNeighborsClassifier\n",
    "import statistics\n",
    "from sklearn.tree import DecisionTreeClassifier, plot_tree"
   ]
  },
  {
   "cell_type": "code",
   "execution_count": 185,
   "id": "5dd21cff",
   "metadata": {},
   "outputs": [],
   "source": [
    "from sklearn.ensemble import (\n",
    "    BaggingClassifier, \n",
    "    AdaBoostClassifier, \n",
    "    RandomForestClassifier, \n",
    "    GradientBoostingClassifier, \n",
    "    StackingClassifier, \n",
    "    VotingClassifier\n",
    ")\n",
    "from sklearn.ensemble import RandomForestClassifier"
   ]
  },
  {
   "cell_type": "code",
   "execution_count": 9,
   "id": "92cca449",
   "metadata": {},
   "outputs": [],
   "source": [
    "from sklearn.metrics import confusion_matrix,ConfusionMatrixDisplay\n",
    "from sklearn.metrics import recall_score\n",
    "from sklearn.metrics import precision_score"
   ]
  },
  {
   "cell_type": "code",
   "execution_count": 125,
   "id": "d694755c",
   "metadata": {},
   "outputs": [],
   "source": [
    "class color:\n",
    "   PURPLE = '\\033[95m'\n",
    "   CYAN = '\\033[96m'\n",
    "   DARKCYAN = '\\033[36m'\n",
    "   BLUE = '\\033[94m'\n",
    "   GREEN = '\\033[92m'\n",
    "   YELLOW = '\\033[93m'\n",
    "   RED = '\\033[91m'\n",
    "   BOLD = '\\033[1m'\n",
    "   UNDERLINE = '\\033[4m'\n",
    "   END = '\\033[0m'"
   ]
  },
  {
   "cell_type": "markdown",
   "id": "ddb67490",
   "metadata": {},
   "source": [
    "## Meteorological indexes:\n",
    "nao\n",
    "<br>\n",
    "ao\n",
    "<br>\n",
    "aao\n",
    "<br>\n",
    "pna\n",
    "<br>\n",
    "enso\n",
    "<br>\n",
    "qbo\n"
   ]
  },
  {
   "cell_type": "code",
   "execution_count": 10,
   "id": "500eb10f",
   "metadata": {},
   "outputs": [],
   "source": [
    "nao=pd.read_csv('file:///Users/davidelibera/Library/Mobile%20Documents/com~apple~TextEdit/Documents/nao%20index%20data.txt',header=None,names=['data'])\n",
    "enso=pd.read_csv('file:///Users/davidelibera/Library/Mobile%20Documents/com~apple~TextEdit/Documents/enso%20index%20data.txt',header=None,names=['data'])\n",
    "aao=pd.read_csv('file:///Users/davidelibera/Library/Mobile%20Documents/com~apple~TextEdit/Documents/aao%20index%20data.txt',header=None,names=['data'])\n",
    "ao=pd.read_csv('file:///Users/davidelibera/Library/Mobile%20Documents/com~apple~TextEdit/Documents/ao%20index%20data.txt',header=None,names=['data'])\n",
    "pna=pd.read_csv('file:///Users/davidelibera/Library/Mobile%20Documents/com~apple~TextEdit/Documents/pna%20index%20data.txt',header=None,names=['data'])\n",
    "qbo=pd.read_csv('file:///Users/davidelibera/Library/Mobile%20Documents/com~apple~TextEdit/Documents/qbo%20index%20data.txt',header=None,names=['data'])"
   ]
  },
  {
   "cell_type": "code",
   "execution_count": 11,
   "id": "d71f3cac",
   "metadata": {},
   "outputs": [],
   "source": [
    "nao1=nao.data.str.split(expand=True,).set_index(0).iloc[29:72]\n",
    "enso1=enso.data.str.split(expand=True,).set_index(0).iloc[29:72]\n",
    "aao1=aao.data.str.split(expand=True,).set_index(0).iloc[1:44]\n",
    "ao1=ao.data.str.split(expand=True,).set_index(0).iloc[29:72]\n",
    "pna1=pna.data.str.split(expand=True,).set_index(0).iloc[29:72]\n",
    "qbo1=qbo.data.str.split(expand=True,).set_index(0)\n"
   ]
  },
  {
   "cell_type": "markdown",
   "id": "4d884fc3",
   "metadata": {},
   "source": [
    "### Temperatures data at Milano Malpensa 1965-2021\n"
   ]
  },
  {
   "cell_type": "code",
   "execution_count": 12,
   "id": "2266b71c",
   "metadata": {},
   "outputs": [],
   "source": [
    "t1=pd.read_csv('file:///Users/davidelibera/Library/Mobile%20Documents/com~apple~TextEdit/Documents/temperatures%20malpensa%201965-2021.txt',header=None,names=['data'])"
   ]
  },
  {
   "cell_type": "code",
   "execution_count": 13,
   "id": "4c5db777",
   "metadata": {},
   "outputs": [],
   "source": [
    "temperatures =t1.data.str.split(expand=True,).set_index(0).iloc[14:58]\n",
    "temperatures.columns=['data']"
   ]
  },
  {
   "cell_type": "code",
   "execution_count": 14,
   "id": "a1433db3",
   "metadata": {},
   "outputs": [],
   "source": [
    "list_t=temperatures['data'].tolist()\n"
   ]
  },
  {
   "cell_type": "code",
   "execution_count": 15,
   "id": "1a2f2a8c",
   "metadata": {},
   "outputs": [],
   "source": [
    "list_t=list(map(float, list_t)) "
   ]
  },
  {
   "cell_type": "code",
   "execution_count": 16,
   "id": "0c6dbebe",
   "metadata": {},
   "outputs": [
    {
     "data": {
      "text/plain": [
       "12.28139534883721"
      ]
     },
     "execution_count": 16,
     "metadata": {},
     "output_type": "execute_result"
    }
   ],
   "source": [
    "mean=statistics.mean(np.array(list_t))\n",
    "mean"
   ]
  },
  {
   "cell_type": "code",
   "execution_count": 17,
   "id": "7d468774",
   "metadata": {},
   "outputs": [],
   "source": [
    "list_t_copy=list_t.copy()"
   ]
  },
  {
   "cell_type": "code",
   "execution_count": 18,
   "id": "665e0659",
   "metadata": {},
   "outputs": [],
   "source": [
    "#assigning -1 if below avg and 1 if above avg\n",
    "for i in range(0,len(list_t_copy)):\n",
    "    if list_t_copy[i] < mean:\n",
    "        list_t_copy[i] = -1\n",
    "    elif list_t_copy[i]== mean:\n",
    "        list_t_copy[i] = 0\n",
    "    elif list_t_copy[i] > mean:\n",
    "        list_t_copy[i] = 1"
   ]
  },
  {
   "cell_type": "markdown",
   "id": "aedeada5",
   "metadata": {},
   "source": [
    "Computing the annual mean for each index"
   ]
  },
  {
   "cell_type": "code",
   "execution_count": 19,
   "id": "f0ac0a48",
   "metadata": {},
   "outputs": [],
   "source": [
    "nao1['mean'] = nao1.astype(float).mean(axis=1)\n",
    "enso1['mean'] = enso1.astype(float).mean(axis=1)\n",
    "aao1['mean'] = aao1.astype(float).mean(axis=1)\n",
    "ao1['mean'] = ao1.astype(float).mean(axis=1)\n",
    "pna1['mean'] = pna1.astype(float).mean(axis=1)\n",
    "\n"
   ]
  },
  {
   "cell_type": "code",
   "execution_count": 20,
   "id": "caf3b7b1",
   "metadata": {},
   "outputs": [],
   "source": [
    "indexes=[nao1['mean'].tolist(),enso1['mean'].tolist(),aao1['mean'].tolist(),ao1['mean'].tolist(),\\\n",
    "         pna1['mean'].tolist()]"
   ]
  },
  {
   "cell_type": "code",
   "execution_count": 21,
   "id": "eeffa4fb",
   "metadata": {},
   "outputs": [],
   "source": [
    "df=pd.DataFrame(indexes)\n",
    "df1=df.transpose()"
   ]
  },
  {
   "cell_type": "code",
   "execution_count": 22,
   "id": "c799cb25",
   "metadata": {},
   "outputs": [],
   "source": [
    "df1['average temperatures']=list_t"
   ]
  },
  {
   "cell_type": "code",
   "execution_count": 23,
   "id": "2093a689",
   "metadata": {},
   "outputs": [],
   "source": [
    "df1['temperature vs average'] = list_t_copy"
   ]
  },
  {
   "cell_type": "code",
   "execution_count": 24,
   "id": "fa085e99",
   "metadata": {},
   "outputs": [],
   "source": [
    "df1.columns=['nao','enso','aao','ao','pna','average temperatures','temperature vs average']"
   ]
  },
  {
   "cell_type": "code",
   "execution_count": 25,
   "id": "a2c769c5",
   "metadata": {},
   "outputs": [],
   "source": [
    "X=np.array(indexes).T\n",
    "y=list_t\n"
   ]
  },
  {
   "cell_type": "markdown",
   "id": "f5f437c9",
   "metadata": {},
   "source": [
    "## Precipitations"
   ]
  },
  {
   "cell_type": "code",
   "execution_count": 26,
   "id": "ef6ed789",
   "metadata": {},
   "outputs": [],
   "source": [
    "prp1=pd.read_csv('file:///Users/davidelibera/Library/Mobile%20Documents/com~apple~TextEdit/Documents/average%20prp.txt',header=None,names=['data'])"
   ]
  },
  {
   "cell_type": "code",
   "execution_count": 27,
   "id": "5c0fef02",
   "metadata": {},
   "outputs": [],
   "source": [
    "prp=prp1.iloc[14:57]\n",
    "list_prp=prp['data'].tolist()\n",
    "\n"
   ]
  },
  {
   "cell_type": "code",
   "execution_count": 28,
   "id": "f42c7672",
   "metadata": {},
   "outputs": [],
   "source": [
    "df1['average annual precipitations'] = list_prp"
   ]
  },
  {
   "cell_type": "code",
   "execution_count": 29,
   "id": "a0736300",
   "metadata": {},
   "outputs": [],
   "source": [
    "list_prp_copy=list_prp.copy()\n"
   ]
  },
  {
   "cell_type": "code",
   "execution_count": 30,
   "id": "3fa54a89",
   "metadata": {},
   "outputs": [
    {
     "data": {
      "text/plain": [
       "1154.6593023255814"
      ]
     },
     "execution_count": 30,
     "metadata": {},
     "output_type": "execute_result"
    }
   ],
   "source": [
    "list_prp_copy=list(map(float, list_prp_copy)) \n",
    "mean=statistics.mean(np.array(list_prp_copy))\n",
    "mean"
   ]
  },
  {
   "cell_type": "markdown",
   "id": "83e72e2b",
   "metadata": {},
   "source": [
    "### For precipitations:\n",
    "<br>\n",
    "if highly above avg: 2\n",
    "<br>\n",
    "if above avg: 1\n",
    "<br>\n",
    "if near avg: 0\n",
    "<br>\n",
    "if below avg: -1\n",
    "<br>\n",
    "if highly below avg -2"
   ]
  },
  {
   "cell_type": "code",
   "execution_count": 31,
   "id": "2f7fc17d",
   "metadata": {},
   "outputs": [],
   "source": [
    "for i in range(0,len(list_prp_copy)):\n",
    "    if list_prp_copy[i]-mean>300:\n",
    "        list_prp_copy[i]=+2\n",
    "    elif list_prp_copy[i]-mean>100:\n",
    "        list_prp_copy[i]=+1\n",
    "    elif list_prp_copy[i]-mean > -100 and list_prp_copy[i]-mean < 100:\n",
    "        list_prp_copy[i]=0\n",
    "    elif list_prp_copy[i]-mean< -300:\n",
    "        list_prp_copy[i]= -2\n",
    "    elif list_prp_copy[i]-mean< -100:\n",
    "        list_prp_copy[i]=-1\n",
    "         \n",
    "    \n",
    "    "
   ]
  },
  {
   "cell_type": "code",
   "execution_count": 32,
   "id": "22c37c14",
   "metadata": {},
   "outputs": [],
   "source": [
    "df1['prp vs average'] = list_prp_copy\n"
   ]
  },
  {
   "cell_type": "code",
   "execution_count": 33,
   "id": "9f9069af",
   "metadata": {},
   "outputs": [],
   "source": [
    "df1['year'] = range(1979,2022,1)"
   ]
  },
  {
   "cell_type": "code",
   "execution_count": 34,
   "id": "e664a0d2",
   "metadata": {},
   "outputs": [],
   "source": [
    "df_final=df1.set_index('year')"
   ]
  },
  {
   "cell_type": "markdown",
   "id": "9853d00e",
   "metadata": {},
   "source": [
    "# Complete dataset"
   ]
  },
  {
   "cell_type": "code",
   "execution_count": 35,
   "id": "587e8add",
   "metadata": {},
   "outputs": [
    {
     "data": {
      "text/html": [
       "<div>\n",
       "<style scoped>\n",
       "    .dataframe tbody tr th:only-of-type {\n",
       "        vertical-align: middle;\n",
       "    }\n",
       "\n",
       "    .dataframe tbody tr th {\n",
       "        vertical-align: top;\n",
       "    }\n",
       "\n",
       "    .dataframe thead th {\n",
       "        text-align: right;\n",
       "    }\n",
       "</style>\n",
       "<table border=\"1\" class=\"dataframe\">\n",
       "  <thead>\n",
       "    <tr style=\"text-align: right;\">\n",
       "      <th></th>\n",
       "      <th>nao</th>\n",
       "      <th>enso</th>\n",
       "      <th>aao</th>\n",
       "      <th>ao</th>\n",
       "      <th>pna</th>\n",
       "      <th>average temperatures</th>\n",
       "      <th>temperature vs average</th>\n",
       "      <th>average annual precipitations</th>\n",
       "      <th>prp vs average</th>\n",
       "    </tr>\n",
       "    <tr>\n",
       "      <th>year</th>\n",
       "      <th></th>\n",
       "      <th></th>\n",
       "      <th></th>\n",
       "      <th></th>\n",
       "      <th></th>\n",
       "      <th></th>\n",
       "      <th></th>\n",
       "      <th></th>\n",
       "      <th></th>\n",
       "    </tr>\n",
       "  </thead>\n",
       "  <tbody>\n",
       "    <tr>\n",
       "      <th>1979</th>\n",
       "      <td>0.1350</td>\n",
       "      <td>0.250833</td>\n",
       "      <td>0.578250</td>\n",
       "      <td>-0.150333</td>\n",
       "      <td>0.194167</td>\n",
       "      <td>11.0</td>\n",
       "      <td>-1</td>\n",
       "      <td>1199.69</td>\n",
       "      <td>0</td>\n",
       "    </tr>\n",
       "    <tr>\n",
       "      <th>1980</th>\n",
       "      <td>-0.4125</td>\n",
       "      <td>0.253333</td>\n",
       "      <td>-0.962167</td>\n",
       "      <td>-0.365167</td>\n",
       "      <td>0.250000</td>\n",
       "      <td>10.6</td>\n",
       "      <td>-1</td>\n",
       "      <td>1268.45</td>\n",
       "      <td>1</td>\n",
       "    </tr>\n",
       "    <tr>\n",
       "      <th>1981</th>\n",
       "      <td>-0.2125</td>\n",
       "      <td>-0.268333</td>\n",
       "      <td>-0.440083</td>\n",
       "      <td>-0.643250</td>\n",
       "      <td>0.238333</td>\n",
       "      <td>11.1</td>\n",
       "      <td>-1</td>\n",
       "      <td>1206.54</td>\n",
       "      <td>0</td>\n",
       "    </tr>\n",
       "    <tr>\n",
       "      <th>1982</th>\n",
       "      <td>0.4300</td>\n",
       "      <td>0.990000</td>\n",
       "      <td>0.196167</td>\n",
       "      <td>-0.434583</td>\n",
       "      <td>-0.158333</td>\n",
       "      <td>12.1</td>\n",
       "      <td>-1</td>\n",
       "      <td>1031.72</td>\n",
       "      <td>-1</td>\n",
       "    </tr>\n",
       "    <tr>\n",
       "      <th>1983</th>\n",
       "      <td>0.3100</td>\n",
       "      <td>0.480000</td>\n",
       "      <td>0.066583</td>\n",
       "      <td>0.297667</td>\n",
       "      <td>0.807500</td>\n",
       "      <td>11.5</td>\n",
       "      <td>-1</td>\n",
       "      <td>842.03</td>\n",
       "      <td>-2</td>\n",
       "    </tr>\n",
       "  </tbody>\n",
       "</table>\n",
       "</div>"
      ],
      "text/plain": [
       "         nao      enso       aao        ao       pna  average temperatures  \\\n",
       "year                                                                         \n",
       "1979  0.1350  0.250833  0.578250 -0.150333  0.194167                  11.0   \n",
       "1980 -0.4125  0.253333 -0.962167 -0.365167  0.250000                  10.6   \n",
       "1981 -0.2125 -0.268333 -0.440083 -0.643250  0.238333                  11.1   \n",
       "1982  0.4300  0.990000  0.196167 -0.434583 -0.158333                  12.1   \n",
       "1983  0.3100  0.480000  0.066583  0.297667  0.807500                  11.5   \n",
       "\n",
       "      temperature vs average average annual precipitations  prp vs average  \n",
       "year                                                                        \n",
       "1979                      -1                       1199.69               0  \n",
       "1980                      -1                       1268.45               1  \n",
       "1981                      -1                       1206.54               0  \n",
       "1982                      -1                       1031.72              -1  \n",
       "1983                      -1                        842.03              -2  "
      ]
     },
     "execution_count": 35,
     "metadata": {},
     "output_type": "execute_result"
    }
   ],
   "source": [
    "df_final.head()"
   ]
  },
  {
   "cell_type": "code",
   "execution_count": 36,
   "id": "f9d46a97",
   "metadata": {},
   "outputs": [
    {
     "data": {
      "text/plain": [
       "43"
      ]
     },
     "execution_count": 36,
     "metadata": {},
     "output_type": "execute_result"
    }
   ],
   "source": [
    "len(df_final)"
   ]
  },
  {
   "cell_type": "code",
   "execution_count": 37,
   "id": "8a6852fd",
   "metadata": {},
   "outputs": [],
   "source": [
    "y=df_final['prp vs average'].values.tolist()"
   ]
  },
  {
   "cell_type": "code",
   "execution_count": 45,
   "id": "75ccf655",
   "metadata": {},
   "outputs": [
    {
     "data": {
      "text/plain": [
       "43"
      ]
     },
     "execution_count": 45,
     "metadata": {},
     "output_type": "execute_result"
    }
   ],
   "source": [
    "len(df_final)"
   ]
  },
  {
   "cell_type": "code",
   "execution_count": 137,
   "id": "c80b50ed",
   "metadata": {},
   "outputs": [
    {
     "data": {
      "text/plain": [
       "sklearn.linear_model._logistic.LogisticRegression"
      ]
     },
     "execution_count": 137,
     "metadata": {},
     "output_type": "execute_result"
    }
   ],
   "source": [
    "type(lr)"
   ]
  },
  {
   "cell_type": "code",
   "execution_count": 156,
   "id": "d3da0bde",
   "metadata": {},
   "outputs": [
    {
     "name": "stdout",
     "output_type": "stream",
     "text": [
      "\u001b[1mLogisticRegression\u001b[0m Accuracy: 21%\n",
      "Recall: 18%\n",
      "Precision: 17%\n",
      "\u001b[1mSVC\u001b[0m Accuracy: 26%\n",
      "Recall: 23%\n",
      "Precision: 21%\n",
      "\u001b[1mGaussianNB\u001b[0m Accuracy: 21%\n",
      "Recall: 18%\n",
      "Precision: 18%\n",
      "\u001b[1mDecisionTreeClassifier\u001b[0m Accuracy: 7%\n",
      "Recall: 6%\n",
      "Precision: 5%\n",
      "\u001b[91mQuesti modelli predittivi fanno mooooolto schifo\u001b[0m\n"
     ]
    }
   ],
   "source": [
    "precision=[]\n",
    "recall=[]\n",
    "for model in models:\n",
    "    y_pred=cross_val_predict(model,X, y, cv=4)\n",
    "    scores=cross_val_score(model, X, y, scoring='accuracy', cv=4, n_jobs=-1)\n",
    "    print(color.BOLD+model.__class__.__name__+color.END,'Accuracy:',\"{:.0%}\".format(scores.astype(float).mean()))\n",
    "    #print(y_pred,model\n",
    "    labels=[-2,-1,0,1,2]\n",
    "    y_true=y\n",
    "    y_pred=y_pred\n",
    "    #cm=confusion_matrix(y_true, y_pred,labels=labels)\n",
    "    #disp=ConfusionMatrixDisplay(cm,display_labels=labels)\n",
    "    #disp.plot(cmap=plt.cm.Reds)\n",
    "    #plt.show()\n",
    "    recall.append(recall_score(y_true, y_pred, average=None))\n",
    "    precision.append(precision_score(y_true, y_pred, average=None))\n",
    "    print('Recall:',\"{:.0%}\".format(statistics.mean(recall_score(y_true, y_pred, average=None))))\n",
    "    print('Precision:',\"{:.0%}\".format(statistics.mean(precision_score(y_true, y_pred, average=None))))\n",
    "    \n",
    "print(color.RED+'Questi modelli predittivi fanno mooooolto schifo'+color.END)\n",
    "\n",
    "\n",
    "\n",
    "    "
   ]
  },
  {
   "cell_type": "code",
   "execution_count": 175,
   "id": "45b46be3",
   "metadata": {},
   "outputs": [
    {
     "name": "stdout",
     "output_type": "stream",
     "text": [
      "\u001b[1mLogisticRegression\u001b[0m Accuracy: 28%\n",
      "Recall: 24%\n",
      "Precision: 23%\n",
      "\u001b[1mSVC\u001b[0m Accuracy: 19%\n",
      "Recall: 16%\n",
      "Precision: 13%\n",
      "\u001b[1mGaussianNB\u001b[0m Accuracy: 28%\n",
      "Recall: 24%\n",
      "Precision: 22%\n",
      "\u001b[1mDecisionTreeClassifier\u001b[0m Accuracy: 19%\n",
      "Recall: 16%\n",
      "Precision: 19%\n",
      "\u001b[91mQuesti modelli predittivi fanno mooooolto schifo, ma un po meno di prima grazie allo stratified K-fold\u001b[0m\n"
     ]
    },
    {
     "name": "stderr",
     "output_type": "stream",
     "text": [
      "/Users/davidelibera/opt/anaconda3/lib/python3.9/site-packages/sklearn/metrics/_classification.py:1248: UndefinedMetricWarning: Precision is ill-defined and being set to 0.0 in labels with no predicted samples. Use `zero_division` parameter to control this behavior.\n",
      "  _warn_prf(average, modifier, msg_start, len(result))\n",
      "/Users/davidelibera/opt/anaconda3/lib/python3.9/site-packages/sklearn/metrics/_classification.py:1248: UndefinedMetricWarning: Precision is ill-defined and being set to 0.0 in labels with no predicted samples. Use `zero_division` parameter to control this behavior.\n",
      "  _warn_prf(average, modifier, msg_start, len(result))\n"
     ]
    }
   ],
   "source": [
    "precision=[]\n",
    "recall=[]\n",
    "for model in models:\n",
    "    skf = StratifiedKFold(n_splits=2)\n",
    "    y_pred=cross_val_predict(model,X, y, cv=skf)\n",
    "    scores=cross_val_score(model, X, y, scoring='accuracy', cv=skf, n_jobs=-1)\n",
    "    print(color.BOLD+model.__class__.__name__+color.END,'Accuracy:',\"{:.0%}\".format(scores.astype(float).mean()))\n",
    "    #print(y_pred,model)\n",
    "    labels=[-2,-1,0,1,2]\n",
    "    y_true=y\n",
    "    y_pred=y_pred\n",
    "    #cm=confusion_matrix(y_true, y_pred,labels=labels)\n",
    "    #disp=ConfusionMatrixDisplay(cm,display_labels=labels)\n",
    "    #disp.plot(cmap=plt.cm.Reds)\n",
    "    #plt.show()\n",
    "    recall.append(recall_score(y_true, y_pred, average=None,zero_division=1))\n",
    "    precision.append(precision_score(y_true, y_pred, average=None,zero_division=1))\n",
    "    print('Recall:',\"{:.0%}\".format(statistics.mean(recall_score(y_true, y_pred, average=None))))\n",
    "    print('Precision:',\"{:.0%}\".format(statistics.mean(precision_score(y_true, y_pred, average=None))))\n",
    "          \n",
    "print(color.RED+'Questi modelli predittivi fanno mooooolto schifo, ma un po meno di prima grazie allo stratified K-fold'+color.END)\n",
    "          "
   ]
  },
  {
   "cell_type": "code",
   "execution_count": 328,
   "id": "4a06c6b4",
   "metadata": {},
   "outputs": [],
   "source": [
    "classifier_svm=svm.SVC(kernel='linear')\n",
    "lr = LogisticRegression()\n",
    "nbc=GaussianNB()\n",
    "clf = DecisionTreeClassifier(random_state=1)\n",
    "knn = KNeighborsClassifier()\n",
    "models=[lr,classifier_svm,nbc,clf]\n"
   ]
  },
  {
   "cell_type": "code",
   "execution_count": 314,
   "id": "6d2df69b",
   "metadata": {},
   "outputs": [],
   "source": [
    "models2=[lr,clf]"
   ]
  },
  {
   "cell_type": "code",
   "execution_count": 239,
   "id": "a123a3fd",
   "metadata": {},
   "outputs": [
    {
     "name": "stdout",
     "output_type": "stream",
     "text": [
      "1 23%\n",
      "2 19%\n",
      "3 21%\n",
      "4 21%\n",
      "5 21%\n",
      "6 19%\n",
      "7 21%\n",
      "8 25%\n",
      "9 21%\n",
      "10 25%\n"
     ]
    }
   ],
   "source": [
    "n_est=[1,2,3,4,5,6,7,8,9,10]\n",
    "for n_estimators in n_est:\n",
    "    bagging_clf = BaggingClassifier(base_estimator=lr, n_estimators=n_estimators, max_samples=0.4, \n",
    "                                    max_features=0.5, random_state=42)\n",
    "    bagging_scores = cross_val_score(bagging_clf, \n",
    "                                     X,y, cv=skf)\n",
    "    print(n_estimators,\"{:.0%}\".format(bagging_scores.mean()))"
   ]
  },
  {
   "cell_type": "code",
   "execution_count": 237,
   "id": "35eebb2e",
   "metadata": {},
   "outputs": [
    {
     "name": "stdout",
     "output_type": "stream",
     "text": [
      "0.1 26%\n",
      "0.2 25%\n",
      "0.4 25%\n",
      "0.5 30%\n",
      "0.7 23%\n",
      "0.8 26%\n",
      "0.9 25%\n"
     ]
    }
   ],
   "source": [
    "max_s=[0.1,0.2,0.4,0.5,0.7,0.8,0.9]\n",
    "for max_samples in max_s:\n",
    "    bagging_clf = BaggingClassifier(base_estimator=lr, n_estimators=8, max_samples=max_samples, \n",
    "                                    max_features=0.5, random_state=42)\n",
    "    bagging_scores = cross_val_score(bagging_clf, \n",
    "                                     X,y, cv=skf)\n",
    "    print(max_samples,\"{:.0%}\".format(bagging_scores.mean()))"
   ]
  },
  {
   "cell_type": "code",
   "execution_count": 241,
   "id": "88dd3651",
   "metadata": {},
   "outputs": [
    {
     "name": "stdout",
     "output_type": "stream",
     "text": [
      "0.1 30%\n",
      "0.2 30%\n",
      "0.4 30%\n",
      "0.5 30%\n",
      "0.7 30%\n",
      "0.8 30%\n",
      "0.9 30%\n"
     ]
    }
   ],
   "source": [
    "max_f=[0.1,0.2,0.4,0.5,0.7,0.8,0.9]\n",
    "for max_features in max_f:\n",
    "    bagging_clf = BaggingClassifier(base_estimator=lr, n_estimators=8, max_samples=0.5, \n",
    "                                    max_features=max_features, random_state=42)\n",
    "    bagging_scores = cross_val_score(bagging_clf, \n",
    "                                     X,y, cv=skf)\n",
    "    print(max_features,\"{:.0%}\".format(bagging_scores.mean()))"
   ]
  },
  {
   "cell_type": "code",
   "execution_count": 326,
   "id": "35d3ce7a",
   "metadata": {},
   "outputs": [
    {
     "data": {
      "application/vnd.jupyter.widget-view+json": {
       "model_id": "042ca4c70fe34c1b8df38cbf6bbee20a",
       "version_major": 2,
       "version_minor": 0
      },
      "text/plain": [
       "  0%|          | 0/10 [00:00<?, ?it/s]"
      ]
     },
     "metadata": {},
     "output_type": "display_data"
    },
    {
     "name": "stdout",
     "output_type": "stream",
     "text": [
      "35%\n",
      "\u001b[94mCol bagging si inizia a ragionare\u001b[0m\n"
     ]
    }
   ],
   "source": [
    "n_est=[1,2,3,4,5,6,7,8,9,10]\n",
    "bagging_scores=[]\n",
    "\n",
    "for n_estimators in tqdm(n_est):\n",
    "    max_s=[0.1,0.2,0.4,0.5,0.7,0.8,0.9]\n",
    "    for max_samples in max_s:\n",
    "        max_f=[0.1,0.2,0.4,0.5,0.7,0.8,0.9]\n",
    "        for max_features in max_f:\n",
    "            bagging_clf = BaggingClassifier(base_estimator=lr, n_estimators=n_estimators, max_samples=max_samples, \n",
    "                                    max_features=max_features, random_state=429)\n",
    "            bagging_scores.append(cross_val_score(bagging_clf,X,y, cv=skf))\n",
    "\n",
    "print(\"{:.0%}\".format(max(np.stack(bagging_scores, axis=0).mean(axis=1))))\n",
    "print(color.BLUE+'Col bagging si inizia a ragionare'+color.END)\n",
    "\n",
    "\n",
    "\n",
    "\n",
    "            #print(n_estimators,max_samples,max_features,\"{:.0%}\".format(bagging_scores.mean()))"
   ]
  },
  {
   "cell_type": "code",
   "execution_count": 325,
   "id": "24715933",
   "metadata": {},
   "outputs": [
    {
     "data": {
      "application/vnd.jupyter.widget-view+json": {
       "model_id": "0fe1c1866d80448ea5eb418d7850ef76",
       "version_major": 2,
       "version_minor": 0
      },
      "text/plain": [
       "  0%|          | 0/10 [00:00<?, ?it/s]"
      ]
     },
     "metadata": {},
     "output_type": "display_data"
    },
    {
     "name": "stdout",
     "output_type": "stream",
     "text": [
      "46%\n",
      "\u001b[92mSi ragiona ancora di più\u001b[0m\n"
     ]
    }
   ],
   "source": [
    "n_est=[1,2,3,4,5,6,7,8,9,10]\n",
    "bagging_scores=[]\n",
    "\n",
    "for n_estimators in tqdm(n_est):\n",
    "    max_s=[0.1,0.2,0.4,0.5,0.7,0.8,0.9]\n",
    "    for max_samples in max_s:\n",
    "        max_f=[0.1,0.2,0.4,0.5,0.7,0.8,0.9]\n",
    "        for max_features in max_f:\n",
    "            bagging_clf = BaggingClassifier(base_estimator=clf, n_estimators=n_estimators, max_samples=max_samples, \n",
    "                                    max_features=max_features, random_state=429)\n",
    "            bagging_scores.append(cross_val_score(bagging_clf,X,y, cv=skf))\n",
    "\n",
    "print(\"{:.0%}\".format(max(np.stack(bagging_scores, axis=0).mean(axis=1))))\n",
    "print(color.GREEN+'Si ragiona ancora di più'+color.END)\n"
   ]
  },
  {
   "cell_type": "code",
   "execution_count": 336,
   "id": "342de449",
   "metadata": {},
   "outputs": [
    {
     "data": {
      "application/vnd.jupyter.widget-view+json": {
       "model_id": "5db48d6e8d314ca0a215d59090f5d276",
       "version_major": 2,
       "version_minor": 0
      },
      "text/plain": [
       "  0%|          | 0/8 [00:00<?, ?it/s]"
      ]
     },
     "metadata": {},
     "output_type": "display_data"
    },
    {
     "name": "stdout",
     "output_type": "stream",
     "text": [
      "21%\n",
      "23%\n",
      "19%\n",
      "26%\n",
      "26%\n",
      "26%\n",
      "23%\n",
      "23%\n",
      "\u001b[93mcosì così random forest\u001b[0m\n"
     ]
    }
   ],
   "source": [
    "n_est=[10,20,30,50,70,100,150,200]\n",
    "for n_estimators in tqdm(n_est):\n",
    "    rf=RandomForestClassifier(n_estimators=n_estimators)\n",
    "    y_pred=cross_val_predict(rf,X, y, cv=skf)\n",
    "    scores=cross_val_score(rf, X, y, scoring='accuracy', cv=skf, n_jobs=-1)\n",
    "    print(\"{:.0%}\".format(scores.mean()))\n",
    "print(color.YELLOW+'così così random forest'+color.END)\n"
   ]
  },
  {
   "cell_type": "markdown",
   "id": "ca680bfb",
   "metadata": {},
   "source": [
    "## Boosting"
   ]
  },
  {
   "cell_type": "markdown",
   "id": "3149f178",
   "metadata": {},
   "source": [
    "### Ada boost"
   ]
  },
  {
   "cell_type": "code",
   "execution_count": 348,
   "id": "0a249d52",
   "metadata": {},
   "outputs": [
    {
     "data": {
      "application/vnd.jupyter.widget-view+json": {
       "model_id": "c63f39c051bb40058573b5206a3d81f3",
       "version_major": 2,
       "version_minor": 0
      },
      "text/plain": [
       "  0%|          | 0/8 [00:00<?, ?it/s]"
      ]
     },
     "metadata": {},
     "output_type": "display_data"
    },
    {
     "name": "stdout",
     "output_type": "stream",
     "text": [
      "30%\n",
      "23%\n",
      "26%\n",
      "32%\n",
      "30%\n",
      "26%\n",
      "26%\n",
      "26%\n"
     ]
    }
   ],
   "source": [
    "n_est=[10,20,30,50,70,100,150,200]\n",
    "for n_estimators in tqdm(n_est):\n",
    "    ada = AdaBoostClassifier(n_estimators=n_estimators,\n",
    "                         random_state=0, \n",
    "                         algorithm='SAMME',\n",
    "                         base_estimator =lr )\n",
    "    ada_scores = cross_val_score(ada, X,y, cv=skf)\n",
    "    print(\"{:.0%}\".format(ada_scores.mean()))"
   ]
  },
  {
   "cell_type": "markdown",
   "id": "ba06ddca",
   "metadata": {},
   "source": [
    "### Gradient boosting"
   ]
  },
  {
   "cell_type": "code",
   "execution_count": 349,
   "id": "a3a3e5ea",
   "metadata": {},
   "outputs": [
    {
     "data": {
      "application/vnd.jupyter.widget-view+json": {
       "model_id": "9260ea16bca04f08a9ec6e652da70d02",
       "version_major": 2,
       "version_minor": 0
      },
      "text/plain": [
       "  0%|          | 0/8 [00:00<?, ?it/s]"
      ]
     },
     "metadata": {},
     "output_type": "display_data"
    },
    {
     "name": "stdout",
     "output_type": "stream",
     "text": [
      "28%\n",
      "28%\n",
      "28%\n",
      "28%\n",
      "28%\n",
      "28%\n",
      "28%\n",
      "28%\n"
     ]
    }
   ],
   "source": [
    "n_est=[10,20,30,50,70,100,150,200]\n",
    "for n_estimators in tqdm(n_est):\n",
    "    gb = GradientBoostingClassifier(n_estimators=n_estimators)\n",
    "    gb_scores = cross_val_score(lr, X, y, cv=skf)\n",
    "    print(\"{:.0%}\".format(gb_scores.mean()))"
   ]
  },
  {
   "cell_type": "code",
   "execution_count": null,
   "id": "3d95847f",
   "metadata": {},
   "outputs": [],
   "source": [
    "fig,ax = plt.subplots(figsize=(14,6))\n",
    "ax.plot(df_final['nao'], marker='.', linestyle='-', linewidth = 0.4, label='Nao', color='red')\n",
    "ax.plot(df_final['ao'],marker='.', linestyle='-', linewidth = 0.4, label='Ao', color='blue')\n",
    "ax.plot(df_final['pna'],marker='.', linestyle='-', linewidth = 0.4, label='Pna', color='green')\n",
    "plt.xticks(ticks=range(1979,2022,2))\n",
    "plt.hlines(y=0, xmin=1979, xmax=2022,color='black',linewidth=1.2)\n",
    "plt.grid(alpha=0.5)\n",
    "plt.legend()\n",
    "ax.set_facecolor('#f4f1ee')\n",
    "plt.show()"
   ]
  },
  {
   "cell_type": "code",
   "execution_count": null,
   "id": "952faea6",
   "metadata": {},
   "outputs": [],
   "source": []
  }
 ],
 "metadata": {
  "kernelspec": {
   "display_name": "Python 3 (ipykernel)",
   "language": "python",
   "name": "python3"
  },
  "language_info": {
   "codemirror_mode": {
    "name": "ipython",
    "version": 3
   },
   "file_extension": ".py",
   "mimetype": "text/x-python",
   "name": "python",
   "nbconvert_exporter": "python",
   "pygments_lexer": "ipython3",
   "version": "3.9.7"
  }
 },
 "nbformat": 4,
 "nbformat_minor": 5
}
